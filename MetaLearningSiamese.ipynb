{
  "cells": [
    {
      "cell_type": "code",
      "execution_count": null,
      "metadata": {
        "colab": {
          "base_uri": "https://localhost:8080/"
        },
        "id": "3jUE18Ow_2gV",
        "outputId": "309cb936-4a08-4ed5-efbe-ee565b814c1d"
      },
      "outputs": [
        {
          "output_type": "stream",
          "name": "stdout",
          "text": [
            "Found GPU at: /device:GPU:0\n"
          ]
        }
      ],
      "source": [
        "import tensorflow as tf\n",
        "device_name = tf.test.gpu_device_name()\n",
        "if device_name != '/device:GPU:0':\n",
        "  raise SystemError('GPU device not found')\n",
        "print('Found GPU at: {}'.format(device_name))"
      ]
    },
    {
      "cell_type": "code",
      "execution_count": null,
      "metadata": {
        "id": "abqQYv8JKoZB"
      },
      "outputs": [],
      "source": [
        "from tensorflow import keras\n",
        "import numpy as np\n",
        "import matplotlib.pyplot as plt\n",
        "plt.style.use(\"seaborn-v0_8-whitegrid\")"
      ]
    },
    {
      "cell_type": "code",
      "execution_count": null,
      "metadata": {
        "id": "gpfWhGPkfIDS"
      },
      "outputs": [],
      "source": [
        "# Given pre-processing code (https://github.com/masoudnick/Brain-Tumor-MRI-Classification/blob/main/Preprocessing.py)\n",
        "\n",
        "import cv2\n",
        "import imutils\n",
        "\n",
        "def crop_img(img):\n",
        "\t\"\"\"\n",
        "\tFinds the extreme points on the image and crops the rectangular out of them\n",
        "\t\"\"\"\n",
        "\tgray = cv2.cvtColor(img, cv2.COLOR_RGB2GRAY)\n",
        "\tgray = cv2.GaussianBlur(gray, (3, 3), 0)\n",
        "\n",
        "\t# threshold the image, then perform a series of erosions +\n",
        "\t# dilations to remove any small regions of noise\n",
        "\tthresh = cv2.threshold(gray, 45, 255, cv2.THRESH_BINARY)[1]\n",
        "\tthresh = cv2.erode(thresh, None, iterations=2)\n",
        "\tthresh = cv2.dilate(thresh, None, iterations=2)\n",
        "\n",
        "\t# find contours in thresholded image, then grab the largest one\n",
        "\tcnts = cv2.findContours(thresh.copy(), cv2.RETR_EXTERNAL, cv2.CHAIN_APPROX_SIMPLE)\n",
        "\tcnts = imutils.grab_contours(cnts)\n",
        "\tc = max(cnts, key=cv2.contourArea)\n",
        "\n",
        "\t# find the extreme points\n",
        "\textLeft = tuple(c[c[:, :, 0].argmin()][0])\n",
        "\textRight = tuple(c[c[:, :, 0].argmax()][0])\n",
        "\textTop = tuple(c[c[:, :, 1].argmin()][0])\n",
        "\textBot = tuple(c[c[:, :, 1].argmax()][0])\n",
        "\tADD_PIXELS = 0\n",
        "\tnew_img = img[extTop[1]-ADD_PIXELS:extBot[1]+ADD_PIXELS, extLeft[0]-ADD_PIXELS:extRight[0]+ADD_PIXELS].copy()\n",
        "\n",
        "\treturn new_img"
      ]
    },
    {
      "cell_type": "code",
      "execution_count": null,
      "metadata": {
        "colab": {
          "base_uri": "https://localhost:8080/"
        },
        "id": "HmywkjrPT4d4",
        "outputId": "dc580156-60bb-4534-c192-56d3a49c7948"
      },
      "outputs": [
        {
          "output_type": "stream",
          "name": "stdout",
          "text": [
            "Mounted at /content/drive\n"
          ]
        }
      ],
      "source": [
        "from google.colab import drive\n",
        "drive.mount('/content/drive')\n",
        "\n",
        "import os\n",
        "from tqdm import tqdm\n",
        "\n",
        "data_path = '/content/drive/MyDrive/COMP562_Project/data'\n",
        "IMG_SIZE = 224\n",
        "class_names = [\"glioma\", \"meningioma\", \"notumor\", \"pituitary\"]\n",
        "\n",
        "# for class_name in tqdm(class_names, position=0):\n",
        "#   class_path = data_path + '/unprocessed/train/' + class_name\n",
        "#   save_path = data_path + '/processed/train/' + class_name\n",
        "#   for img_name in tqdm(os.listdir(class_path), position=0):\n",
        "#     img_path = os.path.join(class_path, img_name)\n",
        "#     img = cv2.imread(img_path)\n",
        "#     img = crop_img(img)\n",
        "#     img = cv2.resize(img,(IMG_SIZE, IMG_SIZE))\n",
        "#     if not os.path.exists(save_path):\n",
        "#       os.makedirs(save_path)\n",
        "#     cv2.imwrite(save_path + '/' + img_name, img)\n",
        "\n",
        "# for class_name in tqdm(class_names, position=0):\n",
        "#   class_path = data_path + '/unprocessed/test/' + class_name\n",
        "#   save_path = data_path + '/processed/test/' + class_name\n",
        "#   for img_name in tqdm(os.listdir(class_path), position=0):\n",
        "#     img_path = os.path.join(class_path, img_name)\n",
        "#     img = cv2.imread(img_path)\n",
        "#     img = crop_img(img)\n",
        "#     img = cv2.resize(img,(IMG_SIZE, IMG_SIZE))\n",
        "#     if not os.path.exists(save_path):\n",
        "#       os.makedirs(save_path)\n",
        "#     cv2.imwrite(save_path + '/' + img_name, img)"
      ]
    },
    {
      "cell_type": "code",
      "execution_count": null,
      "metadata": {
        "colab": {
          "base_uri": "https://localhost:8080/"
        },
        "id": "n0_kku11iYjx",
        "outputId": "96d86260-a7b8-4146-8034-a86c0b0e116d"
      },
      "outputs": [
        {
          "output_type": "stream",
          "name": "stdout",
          "text": [
            "Found 5715 files belonging to 4 classes.\n",
            "Found 1311 files belonging to 4 classes.\n"
          ]
        }
      ],
      "source": [
        "train_ds = tf.keras.preprocessing.image_dataset_from_directory(\n",
        "  \"/content/drive/MyDrive/COMP562_Project/data/processed/train\",\n",
        "  labels=\"inferred\",\n",
        "  label_mode=\"int\", # glioma = 0, meningioma = 1, notumor = 2, pituitary = 3\n",
        "  color_mode=\"grayscale\",\n",
        "  image_size=(224, 224),\n",
        "  batch_size=32\n",
        ")\n",
        "\n",
        "test_ds = tf.keras.preprocessing.image_dataset_from_directory(\n",
        "  \"/content/drive/MyDrive/COMP562_Project/data/processed/test\",\n",
        "  labels=\"inferred\",\n",
        "  label_mode=\"int\", # glioma = 0, meningioma = 1, notumor = 2, pituitary = 3\n",
        "  color_mode=\"grayscale\",\n",
        "  image_size=(224, 224),\n",
        "  batch_size=32\n",
        ")"
      ]
    },
    {
      "cell_type": "code",
      "execution_count": null,
      "metadata": {
        "id": "p07Slyl8nq54"
      },
      "outputs": [],
      "source": [
        "def normalize_img(image, label):\n",
        "  return tf.cast(image, tf.float32) / 255.0, label"
      ]
    },
    {
      "cell_type": "code",
      "execution_count": null,
      "metadata": {
        "id": "ivEVkJ_-NoIF"
      },
      "outputs": [],
      "source": [
        "flattened_train_ds = train_ds.unbatch().map(normalize_img).cache()\n",
        "flattened_test_ds = test_ds.unbatch().map(normalize_img).cache()"
      ]
    },
    {
      "cell_type": "code",
      "source": [
        "import itertools\n",
        "\n",
        "# Generate all possible 2-train, 2-test class splits\n",
        "all_splits = []\n",
        "for train_classes in itertools.combinations(class_names, 2):\n",
        "    test_classes = [c for c in class_names if c not in train_classes]\n",
        "    all_splits.append((train_classes, tuple(test_classes)))\n",
        "\n",
        "print(\"Generated splits:\")\n",
        "for idx, (train_split, test_split) in enumerate(all_splits):\n",
        "    print(f\"Split {idx+1}: Train on {train_split}, Test on {test_split}\")"
      ],
      "metadata": {
        "id": "o-FbXqZO0UA0",
        "colab": {
          "base_uri": "https://localhost:8080/"
        },
        "outputId": "ff90c3af-3ffb-4d56-8335-7859939af0d6"
      },
      "execution_count": null,
      "outputs": [
        {
          "output_type": "stream",
          "name": "stdout",
          "text": [
            "Generated splits:\n",
            "Split 1: Train on ('glioma', 'meningioma'), Test on ('notumor', 'pituitary')\n",
            "Split 2: Train on ('glioma', 'notumor'), Test on ('meningioma', 'pituitary')\n",
            "Split 3: Train on ('glioma', 'pituitary'), Test on ('meningioma', 'notumor')\n",
            "Split 4: Train on ('meningioma', 'notumor'), Test on ('glioma', 'pituitary')\n",
            "Split 5: Train on ('meningioma', 'pituitary'), Test on ('glioma', 'notumor')\n",
            "Split 6: Train on ('notumor', 'pituitary'), Test on ('glioma', 'meningioma')\n"
          ]
        }
      ]
    },
    {
      "cell_type": "code",
      "source": [
        "def filter_dataset_by_class(dataset, selected_class_names, class_names):\n",
        "    class_name_to_label = {name: i for i, name in enumerate(selected_class_names)}\n",
        "    filtered_imgs = []\n",
        "    filtered_labels = []\n",
        "\n",
        "    for img, label in dataset.as_numpy_iterator():\n",
        "        label_str = class_names[label]\n",
        "        if label_str in selected_class_names:\n",
        "            filtered_imgs.append(img)\n",
        "            filtered_labels.append(class_name_to_label[label_str])\n",
        "\n",
        "    ds = tf.data.Dataset.from_tensor_slices((np.stack(filtered_imgs), np.array(filtered_labels)))\n",
        "    return ds"
      ],
      "metadata": {
        "id": "aoDtwfg241HD"
      },
      "execution_count": null,
      "outputs": []
    },
    {
      "cell_type": "code",
      "execution_count": null,
      "metadata": {
        "id": "o0I6YkUAPeU7"
      },
      "outputs": [],
      "source": [
        "def make_siamese_pair_dataset(dataset, num_pairs=20000):\n",
        "    label_to_images = {}\n",
        "\n",
        "    # Organize images by label\n",
        "    for img, label in dataset.as_numpy_iterator():\n",
        "        label = int(label)\n",
        "        if label not in label_to_images:\n",
        "            label_to_images[label] = []\n",
        "        label_to_images[label].append(img)\n",
        "\n",
        "    labels = list(label_to_images.keys())\n",
        "\n",
        "    def generator():\n",
        "        for _ in range(num_pairs):\n",
        "            # Positive pair: two images from the same class\n",
        "            label = np.random.choice(labels)\n",
        "            imgs = np.random.choice(len(label_to_images[label]), 2, replace=False)\n",
        "            img1 = label_to_images[label][imgs[0]]\n",
        "            img2 = label_to_images[label][imgs[1]]\n",
        "            yield (img1, img2), 1\n",
        "\n",
        "            # Negative pair: two images from different classes\n",
        "            label1, label2 = np.random.choice(labels, 2, replace=False)\n",
        "            img1 = label_to_images[label1][np.random.choice(len(label_to_images[label1]))]\n",
        "            img2 = label_to_images[label2][np.random.choice(len(label_to_images[label2]))]\n",
        "            yield (img1, img2), 0\n",
        "\n",
        "    return tf.data.Dataset.from_generator(\n",
        "        generator,\n",
        "        output_signature=(\n",
        "            (tf.TensorSpec(shape=(224, 224, 1), dtype=tf.float32),\n",
        "             tf.TensorSpec(shape=(224, 224, 1), dtype=tf.float32)),\n",
        "            tf.TensorSpec(shape=(), dtype=tf.int32)\n",
        "        )\n",
        "    )"
      ]
    },
    {
      "cell_type": "code",
      "execution_count": null,
      "metadata": {
        "id": "oL8Q60dSL_pX"
      },
      "outputs": [],
      "source": [
        "from tensorflow.keras import layers, Model, Input\n",
        "\n",
        "def create_base_network(input_shape=(224, 224, 1)):\n",
        "    input = Input(shape=input_shape)\n",
        "\n",
        "    x = layers.Conv2D(32, (7,7), activation='relu', padding='same')(input)\n",
        "    x = layers.MaxPooling2D(pool_size=(2,2))(x)\n",
        "\n",
        "    x = layers.Conv2D(64, (5,5), activation='relu', padding='same')(x)\n",
        "    x = layers.MaxPooling2D(pool_size=(2,2))(x)\n",
        "\n",
        "    x = layers.Conv2D(128, (3,3), activation='relu', padding='same')(x)\n",
        "    x = layers.MaxPooling2D(pool_size=(2,2))(x)\n",
        "\n",
        "    x = layers.Conv2D(128, (3,3), activation='relu', padding='same')(x)\n",
        "    x = layers.GlobalAveragePooling2D()(x)\n",
        "\n",
        "    x = layers.Dense(128, activation='relu')(x)\n",
        "    x = layers.Lambda(lambda x: tf.math.l2_normalize(x, axis=1))(x)\n",
        "\n",
        "    return Model(input, x)"
      ]
    },
    {
      "cell_type": "code",
      "execution_count": null,
      "metadata": {
        "id": "_xqQAw7heAfT"
      },
      "outputs": [],
      "source": [
        "def create_siamese_model(input_shape=(224, 224, 1)):\n",
        "\n",
        "    base_network = create_base_network(input_shape)\n",
        "\n",
        "    input_a = Input(shape=input_shape)\n",
        "    input_b = Input(shape=input_shape)\n",
        "\n",
        "    feat_a = base_network(input_a)\n",
        "    feat_b = base_network(input_b)\n",
        "\n",
        "    merged = layers.Lambda(lambda tensors: tf.abs(tensors[0] - tensors[1]))([feat_a, feat_b])\n",
        "\n",
        "    x = layers.Dense(128, activation='relu')(merged)\n",
        "    x = layers.Dropout(0.2)(x)\n",
        "    x = layers.Dense(1, activation='sigmoid')(x)  # sigmoid → probability\n",
        "\n",
        "    return Model(inputs=[input_a, input_b], outputs=x)"
      ]
    },
    {
      "cell_type": "code",
      "source": [
        "def create_few_shot_episode(dataset, n_way=2, k_shot=5, q_query=5):\n",
        "    label_to_images = {}\n",
        "    for img, label in dataset.as_numpy_iterator():\n",
        "        label = int(label)\n",
        "        if label not in label_to_images:\n",
        "            label_to_images[label] = []\n",
        "        label_to_images[label].append(img)\n",
        "\n",
        "    selected_labels = np.random.choice(list(label_to_images.keys()), size=n_way, replace=False)\n",
        "\n",
        "    support_imgs, support_lbls = [], []\n",
        "    query_imgs, query_lbls = [], []\n",
        "\n",
        "    for i, label in enumerate(selected_labels):\n",
        "        imgs = np.random.choice(len(label_to_images[label]), size=k_shot + q_query, replace=False)\n",
        "        support = imgs[:k_shot]\n",
        "        query = imgs[k_shot:]\n",
        "\n",
        "        for idx in support:\n",
        "            support_imgs.append(label_to_images[label][idx])\n",
        "            support_lbls.append(i)\n",
        "\n",
        "        for idx in query:\n",
        "            query_imgs.append(label_to_images[label][idx])\n",
        "            query_lbls.append(i)\n",
        "\n",
        "    return (np.stack(support_imgs), np.array(support_lbls),\n",
        "            np.stack(query_imgs), np.array(query_lbls))"
      ],
      "metadata": {
        "id": "LWGe9KQX-Bz-"
      },
      "execution_count": null,
      "outputs": []
    },
    {
      "cell_type": "code",
      "source": [
        "def few_shot_predict(model, support_imgs, support_lbls, query_imgs):\n",
        "    predictions = []\n",
        "\n",
        "    for q in query_imgs:\n",
        "        sims = []\n",
        "        for s in support_imgs:\n",
        "            q_batch = tf.expand_dims(q, axis=0)\n",
        "            s_batch = tf.expand_dims(s, axis=0)\n",
        "            sim = model.predict([q_batch, s_batch], verbose=0)[0][0]\n",
        "            sims.append(sim)\n",
        "        best = np.argmax(sims)\n",
        "        predictions.append(support_lbls[best])\n",
        "\n",
        "    return np.array(predictions)"
      ],
      "metadata": {
        "id": "YcJ172Xd-C4f"
      },
      "execution_count": null,
      "outputs": []
    },
    {
      "cell_type": "code",
      "execution_count": null,
      "metadata": {
        "id": "xeUi1rHw5xoY",
        "colab": {
          "base_uri": "https://localhost:8080/",
          "height": 1000
        },
        "outputId": "f256f602-72ce-4d53-a118-4248153d711d"
      },
      "outputs": [
        {
          "output_type": "stream",
          "name": "stdout",
          "text": [
            "\n",
            "Split 1: Train on ('glioma', 'meningioma') | Evaluate on ('notumor', 'pituitary')\n",
            "Epoch 1/5\n",
            "\u001b[1m1000/1000\u001b[0m \u001b[32m━━━━━━━━━━━━━━━━━━━━\u001b[0m\u001b[37m\u001b[0m \u001b[1m111s\u001b[0m 100ms/step - accuracy: 0.6045 - loss: 0.6566\n",
            "Epoch 2/5\n",
            "\u001b[1m1000/1000\u001b[0m \u001b[32m━━━━━━━━━━━━━━━━━━━━\u001b[0m\u001b[37m\u001b[0m \u001b[1m100s\u001b[0m 100ms/step - accuracy: 0.7517 - loss: 0.5139\n",
            "Epoch 3/5\n",
            "\u001b[1m1000/1000\u001b[0m \u001b[32m━━━━━━━━━━━━━━━━━━━━\u001b[0m\u001b[37m\u001b[0m \u001b[1m101s\u001b[0m 101ms/step - accuracy: 0.8801 - loss: 0.3052\n",
            "Epoch 4/5\n",
            "\u001b[1m1000/1000\u001b[0m \u001b[32m━━━━━━━━━━━━━━━━━━━━\u001b[0m\u001b[37m\u001b[0m \u001b[1m101s\u001b[0m 101ms/step - accuracy: 0.9533 - loss: 0.1355\n",
            "Epoch 5/5\n",
            "\u001b[1m1000/1000\u001b[0m \u001b[32m━━━━━━━━━━━━━━━━━━━━\u001b[0m\u001b[37m\u001b[0m \u001b[1m101s\u001b[0m 101ms/step - accuracy: 0.9862 - loss: 0.0407\n",
            "Split 1 Few-Shot Accuracy: 0.6080 ± 0.1501\n",
            "\n",
            "Split 2: Train on ('glioma', 'notumor') | Evaluate on ('meningioma', 'pituitary')\n",
            "Epoch 1/5\n",
            "\u001b[1m1000/1000\u001b[0m \u001b[32m━━━━━━━━━━━━━━━━━━━━\u001b[0m\u001b[37m\u001b[0m \u001b[1m106s\u001b[0m 102ms/step - accuracy: 0.8735 - loss: 0.2953\n",
            "Epoch 2/5\n",
            "\u001b[1m1000/1000\u001b[0m \u001b[32m━━━━━━━━━━━━━━━━━━━━\u001b[0m\u001b[37m\u001b[0m \u001b[1m102s\u001b[0m 102ms/step - accuracy: 0.9811 - loss: 0.0582\n",
            "Epoch 3/5\n",
            "\u001b[1m1000/1000\u001b[0m \u001b[32m━━━━━━━━━━━━━━━━━━━━\u001b[0m\u001b[37m\u001b[0m \u001b[1m101s\u001b[0m 101ms/step - accuracy: 0.9928 - loss: 0.0220\n",
            "Epoch 4/5\n",
            "\u001b[1m1000/1000\u001b[0m \u001b[32m━━━━━━━━━━━━━━━━━━━━\u001b[0m\u001b[37m\u001b[0m \u001b[1m102s\u001b[0m 102ms/step - accuracy: 0.9916 - loss: 0.0234\n",
            "Epoch 5/5\n",
            "\u001b[1m1000/1000\u001b[0m \u001b[32m━━━━━━━━━━━━━━━━━━━━\u001b[0m\u001b[37m\u001b[0m \u001b[1m102s\u001b[0m 102ms/step - accuracy: 0.9991 - loss: 0.0038\n",
            "Split 2 Few-Shot Accuracy: 0.6340 ± 0.1538\n",
            "\n",
            "Split 3: Train on ('glioma', 'pituitary') | Evaluate on ('meningioma', 'notumor')\n",
            "Epoch 1/5\n",
            "\u001b[1m1000/1000\u001b[0m \u001b[32m━━━━━━━━━━━━━━━━━━━━\u001b[0m\u001b[37m\u001b[0m \u001b[1m106s\u001b[0m 102ms/step - accuracy: 0.7260 - loss: 0.5302\n",
            "Epoch 2/5\n",
            "\u001b[1m1000/1000\u001b[0m \u001b[32m━━━━━━━━━━━━━━━━━━━━\u001b[0m\u001b[37m\u001b[0m \u001b[1m102s\u001b[0m 102ms/step - accuracy: 0.9180 - loss: 0.2146\n",
            "Epoch 3/5\n",
            "\u001b[1m1000/1000\u001b[0m \u001b[32m━━━━━━━━━━━━━━━━━━━━\u001b[0m\u001b[37m\u001b[0m \u001b[1m102s\u001b[0m 102ms/step - accuracy: 0.9801 - loss: 0.0585\n",
            "Epoch 4/5\n",
            "\u001b[1m1000/1000\u001b[0m \u001b[32m━━━━━━━━━━━━━━━━━━━━\u001b[0m\u001b[37m\u001b[0m \u001b[1m102s\u001b[0m 102ms/step - accuracy: 1.0000 - loss: 5.8885e-04\n",
            "Epoch 5/5\n",
            "\u001b[1m1000/1000\u001b[0m \u001b[32m━━━━━━━━━━━━━━━━━━━━\u001b[0m\u001b[37m\u001b[0m \u001b[1m101s\u001b[0m 101ms/step - accuracy: 1.0000 - loss: 1.3075e-04\n",
            "Split 3 Few-Shot Accuracy: 0.4710 ± 0.1589\n",
            "\n",
            "Split 4: Train on ('meningioma', 'notumor') | Evaluate on ('glioma', 'pituitary')\n",
            "Epoch 1/5\n",
            "\u001b[1m1000/1000\u001b[0m \u001b[32m━━━━━━━━━━━━━━━━━━━━\u001b[0m\u001b[37m\u001b[0m \u001b[1m108s\u001b[0m 102ms/step - accuracy: 0.8011 - loss: 0.4438\n",
            "Epoch 2/5\n",
            "\u001b[1m1000/1000\u001b[0m \u001b[32m━━━━━━━━━━━━━━━━━━━━\u001b[0m\u001b[37m\u001b[0m \u001b[1m102s\u001b[0m 102ms/step - accuracy: 0.9179 - loss: 0.2342\n",
            "Epoch 3/5\n",
            "\u001b[1m1000/1000\u001b[0m \u001b[32m━━━━━━━━━━━━━━━━━━━━\u001b[0m\u001b[37m\u001b[0m \u001b[1m101s\u001b[0m 101ms/step - accuracy: 0.9632 - loss: 0.1142\n",
            "Epoch 4/5\n",
            "\u001b[1m1000/1000\u001b[0m \u001b[32m━━━━━━━━━━━━━━━━━━━━\u001b[0m\u001b[37m\u001b[0m \u001b[1m101s\u001b[0m 101ms/step - accuracy: 0.9851 - loss: 0.0502\n",
            "Epoch 5/5\n",
            "\u001b[1m1000/1000\u001b[0m \u001b[32m━━━━━━━━━━━━━━━━━━━━\u001b[0m\u001b[37m\u001b[0m \u001b[1m101s\u001b[0m 101ms/step - accuracy: 0.9933 - loss: 0.0220\n",
            "Split 4 Few-Shot Accuracy: 0.4730 ± 0.1448\n",
            "\n",
            "Split 5: Train on ('meningioma', 'pituitary') | Evaluate on ('glioma', 'notumor')\n",
            "Epoch 1/5\n",
            "\u001b[1m1000/1000\u001b[0m \u001b[32m━━━━━━━━━━━━━━━━━━━━\u001b[0m\u001b[37m\u001b[0m \u001b[1m107s\u001b[0m 102ms/step - accuracy: 0.6003 - loss: 0.6521\n",
            "Epoch 2/5\n",
            "\u001b[1m1000/1000\u001b[0m \u001b[32m━━━━━━━━━━━━━━━━━━━━\u001b[0m\u001b[37m\u001b[0m \u001b[1m102s\u001b[0m 102ms/step - accuracy: 0.7888 - loss: 0.4704\n",
            "Epoch 3/5\n",
            "\u001b[1m1000/1000\u001b[0m \u001b[32m━━━━━━━━━━━━━━━━━━━━\u001b[0m\u001b[37m\u001b[0m \u001b[1m102s\u001b[0m 102ms/step - accuracy: 0.8732 - loss: 0.3214\n",
            "Epoch 4/5\n",
            "\u001b[1m1000/1000\u001b[0m \u001b[32m━━━━━━━━━━━━━━━━━━━━\u001b[0m\u001b[37m\u001b[0m \u001b[1m102s\u001b[0m 102ms/step - accuracy: 0.9229 - loss: 0.2116\n",
            "Epoch 5/5\n",
            "\u001b[1m1000/1000\u001b[0m \u001b[32m━━━━━━━━━━━━━━━━━━━━\u001b[0m\u001b[37m\u001b[0m \u001b[1m102s\u001b[0m 102ms/step - accuracy: 0.9550 - loss: 0.1342\n",
            "Split 5 Few-Shot Accuracy: 0.6190 ± 0.1547\n",
            "\n",
            "Split 6: Train on ('notumor', 'pituitary') | Evaluate on ('glioma', 'meningioma')\n",
            "Epoch 1/5\n",
            "\u001b[1m1000/1000\u001b[0m \u001b[32m━━━━━━━━━━━━━━━━━━━━\u001b[0m\u001b[37m\u001b[0m \u001b[1m105s\u001b[0m 101ms/step - accuracy: 0.6995 - loss: 0.5185\n",
            "Epoch 2/5\n",
            "\u001b[1m1000/1000\u001b[0m \u001b[32m━━━━━━━━━━━━━━━━━━━━\u001b[0m\u001b[37m\u001b[0m \u001b[1m100s\u001b[0m 100ms/step - accuracy: 0.9786 - loss: 0.0731\n",
            "Epoch 3/5\n",
            "\u001b[1m1000/1000\u001b[0m \u001b[32m━━━━━━━━━━━━━━━━━━━━\u001b[0m\u001b[37m\u001b[0m \u001b[1m100s\u001b[0m 100ms/step - accuracy: 0.9924 - loss: 0.0275\n",
            "Epoch 4/5\n",
            "\u001b[1m1000/1000\u001b[0m \u001b[32m━━━━━━━━━━━━━━━━━━━━\u001b[0m\u001b[37m\u001b[0m \u001b[1m100s\u001b[0m 100ms/step - accuracy: 0.9966 - loss: 0.0113\n",
            "Epoch 5/5\n",
            "\u001b[1m1000/1000\u001b[0m \u001b[32m━━━━━━━━━━━━━━━━━━━━\u001b[0m\u001b[37m\u001b[0m \u001b[1m100s\u001b[0m 100ms/step - accuracy: 1.0000 - loss: 2.1291e-04\n",
            "Split 6 Few-Shot Accuracy: 0.6010 ± 0.1640\n",
            "\n",
            "=== Cross-Split Summary ===\n",
            "Avg Accuracy: 0.5677 ± 0.0684\n"
          ]
        },
        {
          "output_type": "display_data",
          "data": {
            "text/plain": [
              "<Figure size 500x400 with 2 Axes>"
            ],
            "image/png": "[encoded data removed]"
          },
          "metadata": {}
        }
      ],
      "source": [
        "from sklearn.metrics import confusion_matrix\n",
        "import seaborn as sns\n",
        "import matplotlib.pyplot as plt\n",
        "\n",
        "results = []\n",
        "all_preds = []\n",
        "all_labels = []\n",
        "\n",
        "for split_idx, (train_classes, test_classes) in enumerate(all_splits):\n",
        "    print(f\"\\nSplit {split_idx+1}: Train on {train_classes} | Evaluate on {test_classes}\")\n",
        "\n",
        "    # Filter datasets by split\n",
        "    train_data = filter_dataset_by_class(flattened_train_ds, train_classes, class_names)\n",
        "    test_data = filter_dataset_by_class(flattened_test_ds, test_classes, class_names)\n",
        "\n",
        "    # Pair training data\n",
        "    train_pairs = make_siamese_pair_dataset(train_data).repeat().batch(32).prefetch(tf.data.AUTOTUNE)\n",
        "\n",
        "    # Create model\n",
        "    model = create_siamese_model()\n",
        "    model.compile(loss='binary_crossentropy', optimizer='adam', metrics=['accuracy'])\n",
        "\n",
        "    # Train only on meta-train classes\n",
        "    model.fit(train_pairs, steps_per_epoch=1000, epochs=5, verbose=1)\n",
        "\n",
        "    # Few-shot evaluation on meta-test classes\n",
        "    accs = []\n",
        "    split_preds = []\n",
        "    split_labels = []\n",
        "\n",
        "    for _ in range(100):  # 100 episodes\n",
        "        support_imgs, support_lbls, query_imgs, query_lbls = create_few_shot_episode(\n",
        "            test_data, n_way=2, k_shot=5, q_query=5\n",
        "        )\n",
        "        preds = few_shot_predict(model, support_imgs, support_lbls, query_imgs)\n",
        "\n",
        "        acc = np.mean(preds == query_lbls)\n",
        "        accs.append(acc)\n",
        "\n",
        "        split_preds.extend(preds)\n",
        "        split_labels.extend(query_lbls)\n",
        "\n",
        "    avg = np.mean(accs)\n",
        "    std = np.std(accs)\n",
        "\n",
        "    print(f\"Split {split_idx+1} Few-Shot Accuracy: {avg:.4f} ± {std:.4f}\")\n",
        "    results.append(avg)\n",
        "    all_preds.extend(split_preds)\n",
        "    all_labels.extend(split_labels)\n",
        "\n",
        "# Print overall performance\n",
        "print(\"\\n=== Cross-Split Summary ===\")\n",
        "print(f\"Avg Accuracy: {np.mean(results):.4f} ± {np.std(results):.4f}\")\n",
        "\n",
        "# Confusion matrix\n",
        "cm = confusion_matrix(all_labels, all_preds)\n",
        "\n",
        "plt.figure(figsize=(5, 4))\n",
        "sns.heatmap(cm, annot=True, cmap='Blues', fmt='d',\n",
        "            xticklabels=[\"Class 0\", \"Class 1\"],\n",
        "            yticklabels=[\"Class 0\", \"Class 1\"])\n",
        "plt.xlabel(\"Predicted\")\n",
        "plt.ylabel(\"True\")\n",
        "plt.title(\"Few-Shot Confusion Matrix (All Splits)\")\n",
        "plt.show()"
      ]
    }
  ],
  "metadata": {
    "accelerator": "GPU",
    "colab": {
      "gpuType": "T4",
      "provenance": []
    },
    "kernelspec": {
      "display_name": "Python 3",
      "name": "python3"
    },
    "language_info": {
      "name": "python"
    }
  },
  "nbformat": 4,
  "nbformat_minor": 0
}